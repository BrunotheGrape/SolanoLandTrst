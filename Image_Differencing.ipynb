{
 "cells": [
  {
   "cell_type": "code",
   "execution_count": 6,
   "metadata": {
    "collapsed": false
   },
   "outputs": [
    {
     "name": "stdout",
     "output_type": "stream",
     "text": [
      "[[0 0 0 ..., 0 0 0]\n",
      " [0 0 0 ..., 0 0 0]\n",
      " [0 0 0 ..., 0 0 0]\n",
      " ..., \n",
      " [0 0 0 ..., 0 0 0]\n",
      " [0 0 0 ..., 0 0 0]\n",
      " [0 0 0 ..., 0 0 0]]\n"
     ]
    }
   ],
   "source": [
    "#Imports\n",
    "import skimage\n",
    "from skimage import data, img_as_float, img_as_int, exposure, color, io\n",
    "import numpy as np\n",
    "from matplotlib import pyplot as plt , colors, cm\n",
    "from mpl_toolkits import axes_grid1\n",
    "from PIL import Image\n",
    "#import seaborn as sns\n",
    "\n",
    "# Load sample image from skimage built-in sample image library\n",
    "#im1 = data.moon()\n",
    "\n",
    "# Generate sample image for differencing from im1\n",
    "#im2 = data.moon()\n",
    "#im2[:100, :100] = 0\n",
    "\n",
    "# Plot images for dispaly\n",
    "#fig1, ax = plt.subplots(1,2)\n",
    "#ax[0].imshow(im1, cmap= 'jet')\n",
    "#ax[1].imshow(im2, cmap= 'jet')\n",
    "#ax[0].set_title('Image 1')\n",
    "#ax[1].set_title('Image 2')\n",
    "#for a in ax:\n",
    "    #a.set_xticks(())\n",
    "    #a.set_yticks(())\n",
    "    \n",
    "    \n",
    "# Convert images/rfelectance values to float and rescale \n",
    "#im1a = img_as_float(im1)\n",
    "#im2a = img_as_float(im2)\n",
    "#im3 = im1a - im2a\n",
    "#im1a = exposure.rescale_intensity(im1a, out_range=(0, 4 * np.pi))\n",
    "#im2a = exposure.rescale_intensity(im2a, out_range=(0, 4 * np.pi))\n",
    "#im3 = exposure.rescale_intensity(im3, out_range=(0, 4 * np.pi))\n",
    "\n",
    "# Plot images and image difference with colorbar\n",
    "#fig, ax = plt.subplots(1, 3, sharex=True, sharey=True, figsize= (10, 10), subplot_kw={'adjustable':'box-forced'})\n",
    " \n",
    "#ax1, ax2, ax3 = ax.ravel()\n",
    "\n",
    "#fig.colorbar(ax1.imshow(im1a, cmap='jet', vmin=0, vmax=4 * np.pi), ax= ax1, shrink=.2, pad=.1, aspect=10)\n",
    "#ax1.set_title('Original')\n",
    "\n",
    "#fig.colorbar(ax2.imshow(im2a, cmap='jet', vmin=0, vmax=4 * np.pi), ax= ax2, shrink=.2, pad=.1, aspect=10)\n",
    "#ax2.set_title('Second image')\n",
    "\n",
    "#fig.colorbar(ax3.imshow(im1a - im2a, cmap='jet', vmin=0, vmax=4 * np.pi), ax= ax3, shrink=.2, pad=.1, aspect=10)\n",
    "#ax3.set_title('Change')\n",
    "#for a in ax:\n",
    "    #a.set_xticks(())\n",
    "    #a.set_yticks(())\n",
    "    \n",
    "    \n",
    "#df = data.moon\n",
    "#df\n",
    "#df2 = np.array(df)\n",
    "#df2\n",
    "#convert image to array\n",
    "#type(df2)\n",
    "#print(df2)\n",
    "\n",
    "im1 = io.imread(\"https://s3.amazonaws.com/share-terravion-com/solanolandtrust/2016-02-25_2310-34_7c98a49f-e6f0-499c-8016-afdac6c58641_Solano-Rush-Ranch-_TIRS_T_4326.tiff\")\n",
    "df1 = np.array(im1)\n",
    "type(df1)\n",
    "print(df1)\n"
   ]
  },
  {
   "cell_type": "code",
   "execution_count": null,
   "metadata": {
    "collapsed": false
   },
   "outputs": [],
   "source": []
  }
 ],
 "metadata": {
  "kernelspec": {
   "display_name": "Python 3",
   "language": "python",
   "name": "python3"
  },
  "language_info": {
   "codemirror_mode": {
    "name": "ipython",
    "version": 3
   },
   "file_extension": ".py",
   "mimetype": "text/x-python",
   "name": "python",
   "nbconvert_exporter": "python",
   "pygments_lexer": "ipython3",
   "version": "3.5.1"
  }
 },
 "nbformat": 4,
 "nbformat_minor": 0
}
